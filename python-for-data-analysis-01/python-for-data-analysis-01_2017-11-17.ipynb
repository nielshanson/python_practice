{
 "cells": [
  {
   "cell_type": "markdown",
   "metadata": {},
   "source": [
    "# Python for Data Analysis #1 (2017-11-17)\n",
    "\n",
    "Today we are going to cover some practical things:\n",
    "\n",
    "* How to work use Python Excel files\n",
    "* How to automate GUI tasks with Python\n",
    "* Entire talk is based on [Chapters 12](https://automatetheboringstuff.com/chapter12/) and [18](https://automatetheboringstuff.com/chapter18/) from [Automate the Boring Stuff with Python: Practical programming for total beginners](https://automatetheboringstuff.com) by Al Sweigart\n",
    "\n",
    "## Preamble\n",
    "\n",
    "* Please start by downloading and installing v2.7.x of the **[Anaconda Python distribution](https://www.anaconda.com/download/)**\n",
    "* I strongly recommend using this distribution when possible as it will **significantly decrease config and startup time**\n",
    "* At this current date I **still recommened Python v2.7.x** even though version 3.x is available\n",
    "  * The Python community is currently in transition, however, v2.7 is still the **more functional** of the two and is **significantly easier for beginners to use**"
   ]
  },
  {
   "cell_type": "markdown",
   "metadata": {},
   "source": [
    "## Working with Excel Files: the `openpyxl` package\n",
    "\n",
    "* We are going to use the [openpyxl](https://openpyxl.readthedocs.io/en/default/) package to work with Excel files"
   ]
  },
  {
   "cell_type": "code",
   "execution_count": 2,
   "metadata": {
    "collapsed": true
   },
   "outputs": [],
   "source": [
    "# Import required libraries\n",
    "\n",
    "import openpyxl"
   ]
  },
  {
   "cell_type": "markdown",
   "metadata": {},
   "source": [
    "### Loading Excel Files\n",
    "\n",
    "* Excel files can be loaded with the `openpyxl.load_workbook()` command\n",
    "* This returns a `Workbook` object that we can use to access sheets, etc."
   ]
  },
  {
   "cell_type": "code",
   "execution_count": 4,
   "metadata": {
    "collapsed": false
   },
   "outputs": [
    {
     "data": {
      "text/plain": [
       "openpyxl.workbook.workbook.Workbook"
      ]
     },
     "execution_count": 4,
     "metadata": {},
     "output_type": "execute_result"
    }
   ],
   "source": [
    "wb = openpyxl.load_workbook(\"data/example.xlsx\")\n",
    "type(wb)"
   ]
  },
  {
   "cell_type": "markdown",
   "metadata": {},
   "source": [
    "### Accessing Sheets\n",
    "\n",
    "The `Workbook` object can be used to get the individual Excel `Worksheets` through the following functions:\n",
    "\n",
    "* `get_sheet_names()`: Returns a list of sheet names\n",
    "* `get_sheet_by_name('Name'): Returns a `Worksheet` object accessing the `Name` sheet\n",
    "* `active`: Returns a `Worksheet` which is currently active\n",
    "* `title`: Returns the name of a Worksheet object"
   ]
  },
  {
   "cell_type": "code",
   "execution_count": 13,
   "metadata": {
    "collapsed": false
   },
   "outputs": [
    {
     "data": {
      "text/plain": [
       "[u'Sheet1', u'Sheet2', u'Sheet3']"
      ]
     },
     "execution_count": 13,
     "metadata": {},
     "output_type": "execute_result"
    }
   ],
   "source": [
    "wb.get_sheet_names()"
   ]
  },
  {
   "cell_type": "code",
   "execution_count": 14,
   "metadata": {
    "collapsed": true
   },
   "outputs": [],
   "source": [
    "sheet = wb.get_sheet_by_name('Sheet3')"
   ]
  },
  {
   "cell_type": "code",
   "execution_count": 15,
   "metadata": {
    "collapsed": false
   },
   "outputs": [
    {
     "data": {
      "text/plain": [
       "<Worksheet \"Sheet3\">"
      ]
     },
     "execution_count": 15,
     "metadata": {},
     "output_type": "execute_result"
    }
   ],
   "source": [
    "sheet"
   ]
  },
  {
   "cell_type": "code",
   "execution_count": 16,
   "metadata": {
    "collapsed": false
   },
   "outputs": [
    {
     "data": {
      "text/plain": [
       "openpyxl.worksheet.worksheet.Worksheet"
      ]
     },
     "execution_count": 16,
     "metadata": {},
     "output_type": "execute_result"
    }
   ],
   "source": [
    "type(sheet)"
   ]
  },
  {
   "cell_type": "code",
   "execution_count": 17,
   "metadata": {
    "collapsed": false
   },
   "outputs": [
    {
     "data": {
      "text/plain": [
       "u'Sheet3'"
      ]
     },
     "execution_count": 17,
     "metadata": {},
     "output_type": "execute_result"
    }
   ],
   "source": [
    "sheet.title"
   ]
  },
  {
   "cell_type": "code",
   "execution_count": 18,
   "metadata": {
    "collapsed": true
   },
   "outputs": [],
   "source": [
    "anotherSheet = wb.active"
   ]
  },
  {
   "cell_type": "code",
   "execution_count": 19,
   "metadata": {
    "collapsed": false
   },
   "outputs": [
    {
     "data": {
      "text/plain": [
       "<Worksheet \"Sheet1\">"
      ]
     },
     "execution_count": 19,
     "metadata": {},
     "output_type": "execute_result"
    }
   ],
   "source": [
    "anotherSheet"
   ]
  },
  {
   "cell_type": "code",
   "execution_count": 20,
   "metadata": {
    "collapsed": false
   },
   "outputs": [
    {
     "name": "stdout",
     "output_type": "stream",
     "text": [
      "Sheet1\n"
     ]
    }
   ],
   "source": [
    "print anotherSheet.title"
   ]
  },
  {
   "cell_type": "markdown",
   "metadata": {},
   "source": [
    "### Getting Cells from the Sheets\n",
    "\n",
    "* Entire structure is `Workbook`s contains `Worksheet`s which contain `Cell`s\n",
    "* You can access the `Cell`s from a `Worksheet` object\n",
    "* `Cell` objects have the `value` attribute containing the value of the cell\n",
    "* Note that Python will automatically interpret the type of the cell as a Python type (e.g., `None`, `bool`, `int`, `long`, `float`, `str`, `unicode`, `tuple`, `list`, `dict`, `datetime`"
   ]
  },
  {
   "cell_type": "code",
   "execution_count": 24,
   "metadata": {
    "collapsed": true
   },
   "outputs": [],
   "source": [
    "sheet = wb.get_sheet_by_name('Sheet1')"
   ]
  },
  {
   "cell_type": "code",
   "execution_count": 25,
   "metadata": {
    "collapsed": false
   },
   "outputs": [
    {
     "data": {
      "text/plain": [
       "<Cell Sheet1.A1>"
      ]
     },
     "execution_count": 25,
     "metadata": {},
     "output_type": "execute_result"
    }
   ],
   "source": [
    "sheet['A1']"
   ]
  },
  {
   "cell_type": "code",
   "execution_count": 26,
   "metadata": {
    "collapsed": false
   },
   "outputs": [
    {
     "data": {
      "text/plain": [
       "datetime.datetime(2015, 4, 5, 13, 34, 2)"
      ]
     },
     "execution_count": 26,
     "metadata": {},
     "output_type": "execute_result"
    }
   ],
   "source": [
    "sheet['A1'].value"
   ]
  },
  {
   "cell_type": "code",
   "execution_count": 27,
   "metadata": {
    "collapsed": false
   },
   "outputs": [
    {
     "data": {
      "text/plain": [
       "u'Apples'"
      ]
     },
     "execution_count": 27,
     "metadata": {},
     "output_type": "execute_result"
    }
   ],
   "source": [
    "c = sheet['B1']\n",
    "c.value"
   ]
  },
  {
   "cell_type": "code",
   "execution_count": 28,
   "metadata": {
    "collapsed": false
   },
   "outputs": [
    {
     "name": "stdout",
     "output_type": "stream",
     "text": [
      "Row 1, Column B is Apples\n"
     ]
    }
   ],
   "source": [
    "print 'Row ' + str(c.row) + ', Column ' + c.column + ' is ' + c.value"
   ]
  },
  {
   "cell_type": "code",
   "execution_count": 29,
   "metadata": {
    "collapsed": false
   },
   "outputs": [
    {
     "data": {
      "text/plain": [
       "73L"
      ]
     },
     "execution_count": 29,
     "metadata": {},
     "output_type": "execute_result"
    }
   ],
   "source": [
    "sheet['C1'].value"
   ]
  },
  {
   "cell_type": "markdown",
   "metadata": {},
   "source": [
    "#### Specifying columns by numbers\n",
    "\n",
    "* Excel specifies rows by number and columns by letters (e.g., A2 is the second row and the first column)\n",
    "* This actually creates a slight complexity to program, so `cell(row, column)` allows you to access specific rows and columns by number indicies"
   ]
  },
  {
   "cell_type": "code",
   "execution_count": 30,
   "metadata": {
    "collapsed": false
   },
   "outputs": [
    {
     "data": {
      "text/plain": [
       "<Cell Sheet1.B1>"
      ]
     },
     "execution_count": 30,
     "metadata": {},
     "output_type": "execute_result"
    }
   ],
   "source": [
    "sheet.cell(row=1, column=2)"
   ]
  },
  {
   "cell_type": "code",
   "execution_count": 31,
   "metadata": {
    "collapsed": false
   },
   "outputs": [
    {
     "data": {
      "text/plain": [
       "u'Apples'"
      ]
     },
     "execution_count": 31,
     "metadata": {},
     "output_type": "execute_result"
    }
   ],
   "source": [
    "sheet.cell(row=1, column=2).value"
   ]
  },
  {
   "cell_type": "code",
   "execution_count": 35,
   "metadata": {
    "collapsed": false
   },
   "outputs": [
    {
     "name": "stdout",
     "output_type": "stream",
     "text": [
      "1 Apples\n",
      "3 Pears\n",
      "5 Apples\n",
      "7 Strawberries\n"
     ]
    }
   ],
   "source": [
    "# Get every other row from the second column\n",
    "for i in range(1, 8, 2):\n",
    "    print i, sheet.cell(row=i, column=2).value"
   ]
  },
  {
   "cell_type": "markdown",
   "metadata": {
    "collapsed": true
   },
   "source": [
    "#### Determine the maximum size of the Worksheet\n",
    "\n",
    "You can also determine the maximum size of a `Worksheet` with the `max_row` and `max_column` attributes"
   ]
  },
  {
   "cell_type": "code",
   "execution_count": 37,
   "metadata": {
    "collapsed": false
   },
   "outputs": [
    {
     "name": "stdout",
     "output_type": "stream",
     "text": [
      "sheet.max_row is 7\n",
      "sheet.max_column is 3\n"
     ]
    }
   ],
   "source": [
    "print \"sheet.max_row is\", sheet.max_row\n",
    "print \"sheet.max_column is\", sheet.max_column"
   ]
  },
  {
   "cell_type": "markdown",
   "metadata": {},
   "source": [
    "* So now you can use them programatically"
   ]
  },
  {
   "cell_type": "code",
   "execution_count": 38,
   "metadata": {
    "collapsed": false
   },
   "outputs": [
    {
     "name": "stdout",
     "output_type": "stream",
     "text": [
      "Sheet1 is 7 by 3\n"
     ]
    }
   ],
   "source": [
    "print sheet.title, \"is\", sheet.max_row, \"by\", sheet.max_column"
   ]
  },
  {
   "cell_type": "markdown",
   "metadata": {},
   "source": [
    "#### Might need to translate between Excel indicies (e.g., \"AA\" -> 27)\n",
    "\n",
    "* Translate between string indicies to number with `cell.column_index_from_string()`\n",
    "* You can also get the column from an integer with `get_column_number()`"
   ]
  },
  {
   "cell_type": "code",
   "execution_count": 39,
   "metadata": {
    "collapsed": false
   },
   "outputs": [
    {
     "name": "stdout",
     "output_type": "stream",
     "text": [
      "A\n",
      "AA\n",
      "1\n",
      "27\n"
     ]
    }
   ],
   "source": [
    "from openpyxl.cell import get_column_letter, column_index_from_string\n",
    "\n",
    "print get_column_letter(1)\n",
    "print get_column_letter(27)\n",
    "print column_index_from_string('A')\n",
    "print column_index_from_string('AA')"
   ]
  },
  {
   "cell_type": "markdown",
   "metadata": {},
   "source": [
    "#### Getting Rows and Columns from Sheets\n",
    "\n",
    "* Get cells of a specific column: `sheet.columns[1]` \n",
    "* Gets cells from a specific row: `sheet.row[1]`\n",
    "* Get cells row-wise between diagonal coordinates: `tuple(sheet[\"A1\":\"C3\"])`"
   ]
  },
  {
   "cell_type": "code",
   "execution_count": 40,
   "metadata": {
    "collapsed": false
   },
   "outputs": [
    {
     "name": "stdout",
     "output_type": "stream",
     "text": [
      "((<Cell Sheet1.A1>, <Cell Sheet1.B1>, <Cell Sheet1.C1>), (<Cell Sheet1.A2>, <Cell Sheet1.B2>, <Cell Sheet1.C2>), (<Cell Sheet1.A3>, <Cell Sheet1.B3>, <Cell Sheet1.C3>))\n"
     ]
    },
    {
     "data": {
      "text/plain": [
       "(<Cell Sheet1.A2>, <Cell Sheet1.B2>, <Cell Sheet1.C2>)"
      ]
     },
     "execution_count": 40,
     "metadata": {},
     "output_type": "execute_result"
    }
   ],
   "source": [
    "print tuple(sheet[\"A1\":\"C3\"])\n",
    "sheet.columns[1]\n",
    "sheet.rows[1]"
   ]
  },
  {
   "cell_type": "markdown",
   "metadata": {},
   "source": [
    "* We can also print and get the values of each cell in a column"
   ]
  },
  {
   "cell_type": "code",
   "execution_count": 41,
   "metadata": {
    "collapsed": false
   },
   "outputs": [
    {
     "name": "stdout",
     "output_type": "stream",
     "text": [
      "B1 Apples\n",
      "B2 Cherries\n",
      "B3 Pears\n",
      "B4 Oranges\n",
      "B5 Apples\n",
      "B6 Bananas\n",
      "B7 Strawberries\n"
     ]
    }
   ],
   "source": [
    "for cel in sheet.columns[1]:\n",
    "    print cel.coordinate, cel.value"
   ]
  },
  {
   "cell_type": "code",
   "execution_count": 42,
   "metadata": {
    "collapsed": false
   },
   "outputs": [
    {
     "name": "stdout",
     "output_type": "stream",
     "text": [
      "A2 2015-04-05 03:41:23\n",
      "B2 Cherries\n",
      "C2 85\n"
     ]
    }
   ],
   "source": [
    "for cel in sheet.rows[1]:\n",
    "    print cel.coordinate, cel.value"
   ]
  },
  {
   "cell_type": "code",
   "execution_count": 43,
   "metadata": {
    "collapsed": false
   },
   "outputs": [
    {
     "name": "stdout",
     "output_type": "stream",
     "text": [
      "A1 2015-04-05 13:34:02\n",
      "B1 Apples\n",
      "C1 73\n",
      "A2 2015-04-05 03:41:23\n",
      "B2 Cherries\n",
      "C2 85\n",
      "A3 2015-04-06 12:46:51\n",
      "B3 Pears\n",
      "C3 14\n"
     ]
    }
   ],
   "source": [
    "for row in tuple(sheet[\"A1\":\"C3\"]):\n",
    "    for cel in row:\n",
    "        print cel.coordinate, cel.value"
   ]
  },
  {
   "cell_type": "markdown",
   "metadata": {},
   "source": [
    "* Now it doesn't seem to exist, but we might want to translate between an index pair (x,y) to the Excel version (e.g., \"XX1\")"
   ]
  },
  {
   "cell_type": "code",
   "execution_count": 45,
   "metadata": {
    "collapsed": false
   },
   "outputs": [],
   "source": [
    "def create_excel_coord_str(row, col):\n",
    "    if row > 0 and col > 0:\n",
    "        # both row and column are greater than zero\n",
    "        row_str = str(row)\n",
    "        col_str = get_column_letter(col)\n",
    "        ret_str = col_str + row_str\n",
    "        \n",
    "        return ret_str\n",
    "    else:\n",
    "        print \"Not valid input\", row, col\n"
   ]
  },
  {
   "cell_type": "markdown",
   "metadata": {},
   "source": [
    "* Now we can access `Sheet` values by coordinate numbers"
   ]
  },
  {
   "cell_type": "code",
   "execution_count": 46,
   "metadata": {
    "collapsed": false
   },
   "outputs": [
    {
     "name": "stdout",
     "output_type": "stream",
     "text": [
      "C2\n",
      "C3\n",
      "((<Cell Sheet1.A1>, <Cell Sheet1.B1>, <Cell Sheet1.C1>), (<Cell Sheet1.A2>, <Cell Sheet1.B2>, <Cell Sheet1.C2>), (<Cell Sheet1.A3>, <Cell Sheet1.B3>, <Cell Sheet1.C3>))\n"
     ]
    }
   ],
   "source": [
    "print create_excel_coord_str(2,3)\n",
    "print create_excel_coord_str(3,3)\n",
    "print tuple(sheet[create_excel_coord_str(1,1):create_excel_coord_str(3,3)])"
   ]
  },
  {
   "cell_type": "markdown",
   "metadata": {},
   "source": [
    "### Activity Number 1: Census\n",
    "\n",
    "Extract data from an Excel spreadsheet so we can process it in Python"
   ]
  },
  {
   "cell_type": "code",
   "execution_count": 47,
   "metadata": {
    "collapsed": true
   },
   "outputs": [],
   "source": [
    "wb = openpyxl.load_workbook(\"data/censuspopdata.xlsx\")\n",
    "sheet = wb.get_sheet_by_name('Population by Census Tract')"
   ]
  },
  {
   "cell_type": "markdown",
   "metadata": {},
   "source": [
    "* Create a python dictionary of these data (ready for programming)"
   ]
  },
  {
   "cell_type": "code",
   "execution_count": 51,
   "metadata": {
    "collapsed": false
   },
   "outputs": [],
   "source": [
    "countyData = {}\n",
    "for row in range(2, sheet.max_row + 1):\n",
    "    # Each row in the spreadsheet has data for one census tract\n",
    "    state = sheet['B' + str(row)].value\n",
    "    county = sheet['C' + str(row)].value\n",
    "    pop = sheet['D' + str(row)].value\n",
    "   \n",
    "    # Insert data into our data structure\n",
    "    \n",
    "    # Create a space for data if not there\n",
    "    if state not in countyData:\n",
    "        countyData[state] = {}\n",
    "    if county not in countyData[state]:\n",
    "        countyData[state][county] = {}\n",
    "    if \"tracts\" not in countyData[state][county]:\n",
    "        countyData[state][county][\"tracts\"] = 0\n",
    "    if \"pop\" not in countyData[state][county]:\n",
    "        countyData[state][county][\"pop\"] = 0\n",
    "    \n",
    "    # Add population\n",
    "    countyData[state][county][\"pop\"] += pop\n",
    "    # Increment tract\n",
    "    countyData[state][county][\"tracts\"] += 1"
   ]
  },
  {
   "cell_type": "markdown",
   "metadata": {},
   "source": [
    "* Now we can access this data..."
   ]
  },
  {
   "cell_type": "code",
   "execution_count": 52,
   "metadata": {
    "collapsed": false
   },
   "outputs": [
    {
     "name": "stdout",
     "output_type": "stream",
     "text": [
      "291826\n",
      "55\n"
     ]
    }
   ],
   "source": [
    "print countyData['AK']['Anchorage']['pop']\n",
    "print countyData['AK']['Anchorage']['tracts']"
   ]
  },
  {
   "cell_type": "markdown",
   "metadata": {},
   "source": [
    "* Or write it out"
   ]
  },
  {
   "cell_type": "code",
   "execution_count": 53,
   "metadata": {
    "collapsed": false
   },
   "outputs": [],
   "source": [
    "resultFile = open('data/census2010.txt', 'w')\n",
    "resultFile.write(str(countyData))\n",
    "resultFile.close()"
   ]
  },
  {
   "cell_type": "markdown",
   "metadata": {
    "collapsed": true
   },
   "source": [
    "#### Some ideas for future use here\n",
    "\n",
    "* Read and process many many Excel files at once (provided they all have the same formatting)\n",
    "* Compare data between excel spreadsheets (check for invalid data)\n",
    "* Create a python program to do something with this data (enter names in a web form, submit to database, etc.)"
   ]
  },
  {
   "cell_type": "markdown",
   "metadata": {},
   "source": [
    "### Creating and Saving Excel Files\n",
    "\n",
    "Now that we know we can read from an Excel file we also create and write them:\n",
    "\n",
    "* `openpyxl.Workbook()`: Creates a new notebook with default `Sheet` named 'Sheet'\n",
    "* `sheet.title`: Can be used to get or set the title of the `Sheet`"
   ]
  },
  {
   "cell_type": "code",
   "execution_count": 54,
   "metadata": {
    "collapsed": false
   },
   "outputs": [],
   "source": [
    "wb = openpyxl.Workbook()\n",
    "wb.get_sheet_names()\n",
    "sheet = wb.active # only one sheet so we know its the 'active' one"
   ]
  },
  {
   "cell_type": "code",
   "execution_count": 55,
   "metadata": {
    "collapsed": true
   },
   "outputs": [],
   "source": [
    "sheet.title = 'My Report'"
   ]
  },
  {
   "cell_type": "code",
   "execution_count": 56,
   "metadata": {
    "collapsed": true
   },
   "outputs": [],
   "source": [
    "wb.save('data/my_report.xlsx')"
   ]
  },
  {
   "cell_type": "markdown",
   "metadata": {},
   "source": [
    "* We can now check to see that my_report.xlsx has been created"
   ]
  },
  {
   "cell_type": "markdown",
   "metadata": {},
   "source": [
    "#### Creating and removing sheets within a Worksheet\n",
    "\n",
    "* We can create sheets with the `create_sheet(index, title)` function"
   ]
  },
  {
   "cell_type": "code",
   "execution_count": 60,
   "metadata": {
    "collapsed": false
   },
   "outputs": [
    {
     "data": {
      "text/plain": [
       "[u'First Sheet', u'My Report', u'Middle Sheet', u'Last Sheet', 'Last Sheet1']"
      ]
     },
     "execution_count": 60,
     "metadata": {},
     "output_type": "execute_result"
    }
   ],
   "source": [
    "# Creating sheets\n",
    "wb.get_sheet_names()\n",
    "wb.create_sheet(index=0, title='First Sheet')\n",
    "wb.get_sheet_names()\n",
    "wb.create_sheet(index=2, title='Middle Sheet')\n",
    "wb.get_sheet_names()\n",
    "wb.create_sheet(title=\"Last Sheet\")\n",
    "wb.get_sheet_names()"
   ]
  },
  {
   "cell_type": "markdown",
   "metadata": {},
   "source": [
    "* We can also remove sheets with the `remove_sheet(SheetObj)` function"
   ]
  },
  {
   "cell_type": "code",
   "execution_count": 61,
   "metadata": {
    "collapsed": false
   },
   "outputs": [
    {
     "data": {
      "text/plain": [
       "[u'My Report', u'Last Sheet', 'Last Sheet1']"
      ]
     },
     "execution_count": 61,
     "metadata": {},
     "output_type": "execute_result"
    }
   ],
   "source": [
    "# Removing sheets\n",
    "wb.remove_sheet(wb.get_sheet_by_name('First Sheet'))\n",
    "wb.remove_sheet(wb.get_sheet_by_name('Middle Sheet'))\n",
    "wb.get_sheet_names()"
   ]
  },
  {
   "cell_type": "markdown",
   "metadata": {},
   "source": [
    "* Using the list of sheets names given to use by `get_sheet_names()` and `remove_sheet()` we can write a loop to remove all sheets from the `Workbook`"
   ]
  },
  {
   "cell_type": "code",
   "execution_count": 62,
   "metadata": {
    "collapsed": false
   },
   "outputs": [
    {
     "data": {
      "text/plain": [
       "[]"
      ]
     },
     "execution_count": 62,
     "metadata": {},
     "output_type": "execute_result"
    }
   ],
   "source": [
    "# Remove all sheets\n",
    "for sheet_name in wb.get_sheet_names():\n",
    "    wb.remove_sheet(wb.get_sheet_by_name(sheet_name))\n",
    "\n",
    "wb.get_sheet_names()"
   ]
  },
  {
   "cell_type": "markdown",
   "metadata": {},
   "source": [
    "* Warning: writing out the workbook in its current state with no sheets will cause an error\n",
    "* We'll add another sheet with `create_sheet()` just to be safe"
   ]
  },
  {
   "cell_type": "code",
   "execution_count": 63,
   "metadata": {
    "collapsed": false
   },
   "outputs": [],
   "source": [
    "wb.create_sheet(title=\"My new report\")\n",
    "wb.save('my_report.xlsx') # Actually errors if you try to write a workbook with no sheets"
   ]
  },
  {
   "cell_type": "markdown",
   "metadata": {},
   "source": [
    "#### Writing Values to Cells\n",
    "\n",
    "* Writing values to sheets is pretty straightforward, specify the `Cell` of a `Sheet` in square brackets and pass a value in with the assignment operator (`=`)"
   ]
  },
  {
   "cell_type": "code",
   "execution_count": 65,
   "metadata": {
    "collapsed": false
   },
   "outputs": [],
   "source": [
    "sheet = wb.active\n",
    "sheet['A1'] = 'Hello world!'"
   ]
  },
  {
   "cell_type": "markdown",
   "metadata": {},
   "source": [
    "#### Activity 2: Updating a Spreadsheet\n",
    "\n",
    "* Write a program to update cells in a spreadsheet of produce sales"
   ]
  },
  {
   "cell_type": "code",
   "execution_count": 68,
   "metadata": {
    "collapsed": false
   },
   "outputs": [],
   "source": [
    "wb = openpyxl.load_workbook('data/produceSales.xlsx')\n",
    "sheet = wb.get_sheet_by_name('Sheet')\n",
    "\n",
    "price_updates = {'Garlic': 3.07,\n",
    "                 'Celery': 1.19,\n",
    "                 'Lemon': 1.27}\n",
    "\n",
    "for rowNum in range(2, sheet.max_row):\n",
    "    produceName = sheet.cell(row=rowNum, column=1).value\n",
    "    if produceName in price_updates:\n",
    "        sheet.cell(row=rowNum, column=2).value = price_updates[produceName]\n",
    "\n",
    "wb.save('data/updatedProduceSales.xlsx')"
   ]
  },
  {
   "cell_type": "markdown",
   "metadata": {},
   "source": [
    "#### Other program ideas\n",
    "\n",
    "* Read data from one spreadsheet and write it to parts of other spreadsheets\n",
    "* Read data from websites or text files write it to a spreadsheet\n",
    "* Information from one spreadsheet to update another\n",
    "* Automatically “clean up” data in spreadsheets. For example, it could use regular expressions to read multiple formats of phone numbers and edit them to a single, standard format."
   ]
  },
  {
   "cell_type": "markdown",
   "metadata": {},
   "source": [
    "### Setting the Font Style of Cells\n",
    "\n",
    "Now we make are programatically created Excel `Worksheets` more presentable:\n",
    "\n",
    "* font to set font size, color, underlining, etc.\n",
    "* fill to set a pattern or color gradient\n",
    "* border to set borders on a cell\n",
    "* cell alignment\n",
    "* set cell protection"
   ]
  },
  {
   "cell_type": "markdown",
   "metadata": {},
   "source": [
    "* First I am going to create a new `Workbook` `wb2` with the workbook constructor function/method `openpyxl.Workbook()`"
   ]
  },
  {
   "cell_type": "code",
   "execution_count": 71,
   "metadata": {
    "collapsed": true
   },
   "outputs": [],
   "source": [
    "from openpyxl.styles import Font\n",
    "wb2 = openpyxl.Workbook()\n",
    "sheet = wb2.get_sheet_by_name('Sheet')"
   ]
  },
  {
   "cell_type": "markdown",
   "metadata": {},
   "source": [
    "* Next I am going to create a `Font` object using the `Font` constructor. Note its default options are defined below"
   ]
  },
  {
   "cell_type": "markdown",
   "metadata": {},
   "source": [
    "* Fonts have the following arguments\n",
    "\n",
    "```\n",
    "font = Font(name='Calibri',\n",
    "            size=11,\n",
    "            bold=False,\n",
    "            italic=False,\n",
    "            vertAlign=None,\n",
    "            underline='none',\n",
    "            strike=False,\n",
    "            color='FF000000')\n",
    "```"
   ]
  },
  {
   "cell_type": "code",
   "execution_count": 72,
   "metadata": {
    "collapsed": false
   },
   "outputs": [],
   "source": [
    "italic24Font = Font(size=24, italic=True)"
   ]
  },
  {
   "cell_type": "markdown",
   "metadata": {},
   "source": [
    "* Next we are going to assign that `Font` object to the `font` attribute of a `Cell`, then add some text to the `value` attribute, and finally write out our workbook"
   ]
  },
  {
   "cell_type": "code",
   "execution_count": 73,
   "metadata": {
    "collapsed": false
   },
   "outputs": [],
   "source": [
    "sheet['A1'].font = italic24Font\n",
    "sheet['A1'] = 'Hello world!'\n",
    "wb2.save('data/my_formatted_spreadsheet.xlsx')"
   ]
  },
  {
   "cell_type": "markdown",
   "metadata": {},
   "source": [
    "* The other thing that you can change is background color\n",
    "\n",
    "```\n",
    "fill = PatternFill(fill_type=None,\n",
    "                   start_color='FFFFFFFF',\n",
    "                   end_color='FF000000')\n",
    "```"
   ]
  },
  {
   "cell_type": "markdown",
   "metadata": {
    "collapsed": false
   },
   "source": [
    "from openpyxl.styles import PatternFill\n",
    "fill = PatternFill(fill_type=\"solid\",\n",
    "                   start_color='FF0000',\n",
    "                   end_color='808080')\n",
    "sheet['A1'].fill = fill\n",
    "wb2.save('data/my_formatted_spreadsheet.xlsx')"
   ]
  },
  {
   "cell_type": "markdown",
   "metadata": {},
   "source": [
    "* We can of course get a bit more fancy by adding color background with the `PatternFill` style"
   ]
  },
  {
   "cell_type": "code",
   "execution_count": 75,
   "metadata": {
    "collapsed": false
   },
   "outputs": [
    {
     "name": "stdout",
     "output_type": "stream",
     "text": [
      "Filling in B1\n",
      "Filling in B2\n",
      "Filling in B3\n",
      "Filling in B4\n",
      "Filling in B5\n",
      "Filling in B6\n",
      "Filling in B7\n"
     ]
    }
   ],
   "source": [
    "rainbow = [\"FF0000\", \"FF7F00\", \"FFFF00\", \"00FF00\", \"0000FF\", \"4B0082\", \"9400D3\"]\n",
    "values = [\"Richard\", \"Of\", \"York\", \"Gains\", \"Battles\", \"In\", \"Vain\"]\n",
    "for i, color in enumerate(rainbow):\n",
    "    color_fill = PatternFill(fill_type=\"solid\",\n",
    "                             start_color=color,\n",
    "                             end_color=color)\n",
    "    coords = create_excel_coord_str(i+1, 2)\n",
    "    print \"Filling in\", coords\n",
    "    sheet[coords].value = values[i]\n",
    "    sheet[coords].fill = color_fill\n",
    "wb2.save('data/my_formatted_spreadsheet.xlsx')"
   ]
  },
  {
   "cell_type": "markdown",
   "metadata": {},
   "source": [
    "#### Homework\n",
    "\n",
    "Play around with borders, cell alignment, and protection. There's quite a few more options to play around with `Font` and `PatternFill` too! See: https://openpyxl.readthedocs.io/en/default/styles.html"
   ]
  },
  {
   "cell_type": "markdown",
   "metadata": {},
   "source": [
    "### Formulas\n",
    "\n",
    "Strings assigned to a cell beginning with an `=` lets cell values be calculated by other cells"
   ]
  },
  {
   "cell_type": "code",
   "execution_count": 80,
   "metadata": {
    "collapsed": false
   },
   "outputs": [],
   "source": [
    "sheet['B1'].value = 1\n",
    "sheet['B2'].value = 2\n",
    "sheet['B3'].value = 3\n",
    "sheet['B4'] = '=SUM(B1:B3)'"
   ]
  },
  {
   "cell_type": "code",
   "execution_count": 81,
   "metadata": {
    "collapsed": true
   },
   "outputs": [],
   "source": [
    "wb2.save('data/my_formulas.xlsx')"
   ]
  },
  {
   "cell_type": "markdown",
   "metadata": {},
   "source": [
    "### Setting Height and Width\n",
    "\n",
    "* You can set the column high and width"
   ]
  },
  {
   "cell_type": "code",
   "execution_count": 82,
   "metadata": {
    "collapsed": true
   },
   "outputs": [],
   "source": [
    "sheet['A1'] = 'Tall row'\n",
    "sheet['B1'] = 'Wide column'\n",
    "sheet.row_dimensions[1].height = 70\n",
    "sheet.column_dimensions['B'].width = 140\n",
    "wb2.save('data/my_formatting.xlsx')"
   ]
  },
  {
   "cell_type": "markdown",
   "metadata": {},
   "source": [
    "### Merging and Unmerging Cells\n",
    "\n"
   ]
  },
  {
   "cell_type": "code",
   "execution_count": 83,
   "metadata": {
    "collapsed": true
   },
   "outputs": [],
   "source": [
    "wb = openpyxl.Workbook()\n",
    "sheet = wb.active\n",
    "sheet.merge_cells('A1:D3')\n",
    "sheet['A1'] = 'Twelve cells merged together.'\n",
    "sheet.merge_cells('C5:D5')\n",
    "sheet['C5'] = 'Two merged cells.'\n",
    "wb.save('data/merged.xlsx')"
   ]
  },
  {
   "cell_type": "code",
   "execution_count": 84,
   "metadata": {
    "collapsed": true
   },
   "outputs": [],
   "source": [
    "wb = openpyxl.load_workbook('data/merged.xlsx')\n",
    "sheet = wb.active\n",
    "sheet.unmerge_cells('A1:D3')\n",
    "sheet.unmerge_cells('C5:D5')\n",
    "wb.save('data/unmerged.xlsx')"
   ]
  },
  {
   "cell_type": "markdown",
   "metadata": {},
   "source": [
    "### Freeze Pains"
   ]
  },
  {
   "cell_type": "code",
   "execution_count": 213,
   "metadata": {
    "collapsed": true
   },
   "outputs": [],
   "source": [
    "wb = openpyxl.load_workbook('data/produceSales.xlsx')\n",
    "sheet = wb.active\n",
    "sheet.freeze_panes = 'A2'\n",
    "wb.save('data/freezeExample.xlsx')"
   ]
  },
  {
   "cell_type": "markdown",
   "metadata": {},
   "source": [
    "### Charts"
   ]
  },
  {
   "cell_type": "code",
   "execution_count": 215,
   "metadata": {
    "collapsed": true
   },
   "outputs": [],
   "source": [
    "wb = openpyxl.Workbook()\n",
    "sheet = wb.active\n",
    "\n",
    "# create some data in column A\n",
    "for i in range(1, 11):\n",
    "    sheet['A' + str(i)] = i\n",
    "\n",
    "# Create the reference object\n",
    "refObj = openpyxl.chart.Reference(sheet, min_col=1, min_row=1, max_col=1, max_row=10)\n",
    "# Create the series object\n",
    "seriesObj = openpyxl.chart.Series(refObj, title='First series')\n",
    "chartObj = openpyxl.chart.BarChart()\n",
    "chartObj.title = 'My Chart'\n",
    "chartObj.append(seriesObj)\n",
    "sheet.add_chart(chartObj, 'C5')\n",
    "wb.save('data/sampleChart.xlsx')"
   ]
  },
  {
   "cell_type": "markdown",
   "metadata": {},
   "source": [
    "#### Homework\n",
    "\n",
    "Try out `openpyxl.chart.LineChart()`, `openpyxl.chart.ScatterChart()`, and `openpyxl.chart.PieChart()`"
   ]
  },
  {
   "cell_type": "markdown",
   "metadata": {
    "collapsed": true
   },
   "source": [
    "## Controlling the Keyboard and Mouse with GUI Automation\n",
    "\n",
    "* Going to use the `pyautogui` package to automate the use of the mouse and keyboard\n",
    "* You need to install a few additional packages here: https://pyautogui.readthedocs.io/en/latest/install.html\n",
    "http://pyautogui.readthedocs.io/\n"
   ]
  },
  {
   "cell_type": "code",
   "execution_count": 87,
   "metadata": {
    "collapsed": true
   },
   "outputs": [],
   "source": [
    "import pyautogui"
   ]
  },
  {
   "cell_type": "markdown",
   "metadata": {},
   "source": [
    "### Moving the mouse\n",
    "\n",
    "* Use the `moveTo(x, y)` function to move the mouse from its current location to its next location (x,y) measured from the top left of the screen"
   ]
  },
  {
   "cell_type": "code",
   "execution_count": 95,
   "metadata": {
    "collapsed": false
   },
   "outputs": [],
   "source": [
    "# Move our cursor to (200, 500)\n",
    "pyautogui.moveTo(200, 500, duration=3)"
   ]
  },
  {
   "cell_type": "markdown",
   "metadata": {},
   "source": [
    "* Move the cursor in a square three times"
   ]
  },
  {
   "cell_type": "code",
   "execution_count": 89,
   "metadata": {
    "collapsed": true
   },
   "outputs": [],
   "source": [
    "for i in range(3):\n",
    "    pyautogui.moveTo(100, 100, duration=0.25)\n",
    "    pyautogui.moveTo(200, 100, duration=0.25)\n",
    "    pyautogui.moveTo(200, 200, duration=0.25)\n",
    "    pyautogui.moveTo(100, 200, duration=0.25)"
   ]
  },
  {
   "cell_type": "markdown",
   "metadata": {},
   "source": [
    "* Move the cursor relative to its current position"
   ]
  },
  {
   "cell_type": "code",
   "execution_count": 90,
   "metadata": {
    "collapsed": true
   },
   "outputs": [],
   "source": [
    "for i in range(3):\n",
    "    pyautogui.moveRel(100, 0, duration=0.25)\n",
    "    pyautogui.moveRel(0, 100, duration=0.25)\n",
    "    pyautogui.moveRel(-100, 0, duration=0.25)\n",
    "    pyautogui.moveRel(0, -100, duration=0.25)"
   ]
  },
  {
   "cell_type": "markdown",
   "metadata": {},
   "source": [
    "* Use `position()` to get the current pixel coordinates of the mouse"
   ]
  },
  {
   "cell_type": "code",
   "execution_count": 93,
   "metadata": {
    "collapsed": false
   },
   "outputs": [
    {
     "data": {
      "text/plain": [
       "(159, 157)"
      ]
     },
     "execution_count": 93,
     "metadata": {},
     "output_type": "execute_result"
    }
   ],
   "source": [
    "pyautogui.position()"
   ]
  },
  {
   "cell_type": "markdown",
   "metadata": {},
   "source": [
    "### Clicking the mouse\n",
    "\n",
    "* `click(x,y)` clicks the mouse at a x,y\n",
    "* `mouseDown(x,y)` presses and holds the mouse down at x,y\n",
    "* `mouseUp(x,y)` presses and holds the mouse up at x,y\n",
    "* `doubleClick(x,y)` clicks twice in the current positon at x,y\n",
    "\n",
    "Note: For all of the above, not specifying x,y will just do this at the mouse's current location"
   ]
  },
  {
   "cell_type": "code",
   "execution_count": 99,
   "metadata": {
    "collapsed": true
   },
   "outputs": [],
   "source": [
    "pyautogui.click(159, 157)\n",
    "pyautogui.mouseDown()\n",
    "pyautogui.mouseUp()\n",
    "pyautogui.doubleClick(159,157)"
   ]
  },
  {
   "cell_type": "markdown",
   "metadata": {},
   "source": [
    "### Adding a Delay\n",
    "\n",
    "Because these actions happen so fast. It can be difficult for some GUIs to keep up. You may also want to delay so you can keep track of the work. Use the `time` package to add a delay to any program.\n",
    "\n",
    "* `time.sleep(sec)`: causes the program to wait for a certain number of seconds"
   ]
  },
  {
   "cell_type": "code",
   "execution_count": 228,
   "metadata": {
    "collapsed": true
   },
   "outputs": [],
   "source": [
    "import time\n",
    "sec=10\n",
    "time.sleep(sec)"
   ]
  },
  {
   "cell_type": "markdown",
   "metadata": {},
   "source": [
    "### Scrolling Up, Down, Left, and Right\n",
    "\n",
    "* `scroll(10, x, y)`: Moves cursor to x,y an then crolls up 10 'clicks'\n",
    "* `hscroll(10)`: Horizontal scroll 10 'clicks' at current position\n",
    "* Note: positive values go one way, negative value go the other"
   ]
  },
  {
   "cell_type": "code",
   "execution_count": 101,
   "metadata": {
    "collapsed": true
   },
   "outputs": [],
   "source": [
    "pyautogui.scroll(10, x=100, y=100)  # move mouse cursor to 100, 200, then scroll up 10 \"clicks\"\n",
    "pyautogui.hscroll(10)   # scroll right 10 \"clicks\""
   ]
  },
  {
   "cell_type": "markdown",
   "metadata": {},
   "source": [
    "### Go to the position of an image\n",
    "\n",
    "* If you take a screenshot with an image, pyautogui, can locate it on the screen\n",
    "* `locateOnScreen('path/to/image.png')`: returns the top left coordinates and offsets for the box"
   ]
  },
  {
   "cell_type": "code",
   "execution_count": 111,
   "metadata": {
    "collapsed": false
   },
   "outputs": [],
   "source": [
    "# print pyautogui.locateOnScreen('data/green2.png')\n",
    "x1, y1, x_off, y_off = pyautogui.locateOnScreen('data/green2.png')\n",
    "pyautogui.moveTo(x1/2, y1/2, duration=5)"
   ]
  },
  {
   "cell_type": "code",
   "execution_count": 109,
   "metadata": {
    "collapsed": false
   },
   "outputs": [
    {
     "data": {
      "text/plain": [
       "[(338, 100, 36, 32)]"
      ]
     },
     "execution_count": 109,
     "metadata": {},
     "output_type": "execute_result"
    }
   ],
   "source": [
    "list(pyautogui.locateAllOnScreen('data/green2.png'))"
   ]
  },
  {
   "cell_type": "code",
   "execution_count": 110,
   "metadata": {
    "collapsed": true
   },
   "outputs": [],
   "source": [
    "x,y = pyautogui.center(pyautogui.locateOnScreen('data/green2.png'))\n",
    "pyautogui.moveTo(x, y, duration=5)"
   ]
  },
  {
   "cell_type": "markdown",
   "metadata": {},
   "source": [
    "### Write a message\n",
    "\n",
    "* You can use `typewrite(\"Hello!\")` to write a message on the keyboard (usually after clicking or double clicking)"
   ]
  },
  {
   "cell_type": "code",
   "execution_count": 112,
   "metadata": {
    "collapsed": false
   },
   "outputs": [
    {
     "data": {
      "text/plain": [
       "(664, 486)"
      ]
     },
     "execution_count": 112,
     "metadata": {},
     "output_type": "execute_result"
    }
   ],
   "source": [
    "pyautogui.position()"
   ]
  },
  {
   "cell_type": "code",
   "execution_count": 113,
   "metadata": {
    "collapsed": true
   },
   "outputs": [],
   "source": [
    "pyautogui.click(664, 486)\n",
    "pyautogui.typewrite('Hello world!')"
   ]
  },
  {
   "cell_type": "markdown",
   "metadata": {},
   "source": [
    "* You can also specify a series of key presses by using a list() or []"
   ]
  },
  {
   "cell_type": "code",
   "execution_count": null,
   "metadata": {
    "collapsed": true
   },
   "outputs": [],
   "source": [
    "pyautogui.typewrite(['a', 'b', 'left', 'left', 'X', 'Y'])"
   ]
  },
  {
   "cell_type": "markdown",
   "metadata": {},
   "source": [
    "### Complex Key Usage\n",
    "\n",
    "You can use a combination of `keyDown('keyname')`, `press('keyname')`, and `keyUp('keyname')` to do more complicated shortcut commands."
   ]
  },
  {
   "cell_type": "markdown",
   "metadata": {},
   "source": [
    "* Shift + 4"
   ]
  },
  {
   "cell_type": "code",
   "execution_count": 114,
   "metadata": {
    "collapsed": true
   },
   "outputs": [],
   "source": [
    "pyautogui.keyDown('shift'); pyautogui.press('4'); pyautogui.keyUp('shift')"
   ]
  },
  {
   "cell_type": "code",
   "execution_count": null,
   "metadata": {
    "collapsed": true
   },
   "outputs": [],
   "source": [
    "* Ctrl + c (copy)"
   ]
  },
  {
   "cell_type": "code",
   "execution_count": null,
   "metadata": {
    "collapsed": true
   },
   "outputs": [],
   "source": [
    "pyautogui.keyDown('ctrl')\n",
    "pyautogui.keyDown('c')\n",
    "pyautogui.keyUp('c')\n",
    "pyautogui.keyUp('ctrl')"
   ]
  },
  {
   "cell_type": "markdown",
   "metadata": {},
   "source": [
    "* The above is common enough that there's a whole command for this."
   ]
  },
  {
   "cell_type": "code",
   "execution_count": 115,
   "metadata": {
    "collapsed": true
   },
   "outputs": [],
   "source": [
    "pyautogui.hotkey('ctrl', 'c')"
   ]
  },
  {
   "cell_type": "markdown",
   "metadata": {},
   "source": [
    "## Homework for next class\n",
    "\n",
    "Write a script to automate something work related."
   ]
  }
 ],
 "metadata": {
  "kernelspec": {
   "display_name": "Python 2",
   "language": "python",
   "name": "python2"
  },
  "language_info": {
   "codemirror_mode": {
    "name": "ipython",
    "version": 2
   },
   "file_extension": ".py",
   "mimetype": "text/x-python",
   "name": "python",
   "nbconvert_exporter": "python",
   "pygments_lexer": "ipython2",
   "version": "2.7.11"
  }
 },
 "nbformat": 4,
 "nbformat_minor": 0
}
